{
 "cells": [
  {
   "cell_type": "code",
   "execution_count": 3,
   "metadata": {},
   "outputs": [
    {
     "name": "stdout",
     "output_type": "stream",
     "text": [
      "해당 아파트를 찾을 수 없습니다.\n"
     ]
    }
   ],
   "source": [
    "import requests\n",
    "from bs4 import BeautifulSoup\n",
    "import urllib.parse\n",
    "\n",
    "def get_apartment_number(apartment_name):\n",
    "    # 입력받은 아파트 이름을 URL 인코딩\n",
    "    encoded_name = urllib.parse.quote(apartment_name)\n",
    "    search_url = f'https://new.land.naver.com/api/complexes/suggest?query={encoded_name}&type=complex'\n",
    "\n",
    "    # 네이버 부동산의 검색 API 요청\n",
    "    headers = {\n",
    "        'User-Agent': 'Mozilla/5.0',\n",
    "    }\n",
    "\n",
    "    response = requests.get(search_url, headers=headers)\n",
    "\n",
    "    if response.status_code != 200:\n",
    "        print(\"네이버 부동산 API 요청 실패\")\n",
    "        return None\n",
    "\n",
    "    data = response.json()\n",
    "\n",
    "    # JSON 데이터에서 아파트 번호 추출\n",
    "    if data.get('complexList'):\n",
    "        complex_info = data['complexList'][0]  # 첫 번째 결과 사용 (필요에 따라 수정 가능)\n",
    "        complex_no = complex_info['complexNo']\n",
    "        complex_name = complex_info['complexName']\n",
    "        return complex_no, complex_name\n",
    "    else:\n",
    "        print(\"해당 아파트를 찾을 수 없습니다.\")\n",
    "        return None\n",
    "\n",
    "def main():\n",
    "    apartment_name = input(\"아파트 이름을 입력하세요: \")\n",
    "    result = get_apartment_number(apartment_name)\n",
    "\n",
    "    if result:\n",
    "        complex_no, complex_name = result\n",
    "        print(f\"아파트 이름: {complex_name}, 아파트 번호: {complex_no}\")\n",
    "\n",
    "if __name__ == \"__main__\":\n",
    "    main()"
   ]
  }
 ],
 "metadata": {
  "kernelspec": {
   "display_name": "Python 3",
   "language": "python",
   "name": "python3"
  },
  "language_info": {
   "codemirror_mode": {
    "name": "ipython",
    "version": 3
   },
   "file_extension": ".py",
   "mimetype": "text/x-python",
   "name": "python",
   "nbconvert_exporter": "python",
   "pygments_lexer": "ipython3",
   "version": "3.13.2"
  }
 },
 "nbformat": 4,
 "nbformat_minor": 2
}
