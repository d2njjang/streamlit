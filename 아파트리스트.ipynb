{
 "cells": [
  {
   "cell_type": "code",
   "execution_count": null,
   "metadata": {
    "vscode": {
     "languageId": "plaintext"
    }
   },
   "outputs": [],
   "source": [
    "import requests\n",
    "import csv\n",
    "\n",
    "# 요청에 필요한 쿠키 및 헤더 설정\n",
    "cookies = {\n",
    "    'NAC': 'fy5GCABTmweeE',\n",
    "    'NNB': 'POQIQ3VVBGUGO',\n",
    "}\n",
    "headers = {\n",
    "    'accept': '*/*',\n",
    "    'user-agent': 'Mozilla/5.0 (Windows NT 10.0; Win64; x64) AppleWebKit/537.36 (KHTML, like Gecko) Chrome/133.0.0.0 Safari/537.36',\n",
    "}\n",
    "params = {\n",
    "    'cortarNo': '4111710500',\n",
    "    'realEstateType': 'APT',\n",
    "    'order': '',\n",
    "}\n",
    "\n",
    "# API 요청\n",
    "response = requests.get('https://new.land.naver.com/api/regions/complexes', params=params, cookies=cookies, headers=headers)\n",
    "\n",
    "# 응답 데이터 확인\n",
    "if response.status_code == 200:\n",
    "    data = response.json()\n",
    "    complexes = data.get('complexList', [])\n",
    "    \n",
    "    # CSV 파일 저장\n",
    "    with open('apartments.csv', 'w', newline='', encoding='utf-8-sig') as file:\n",
    "        writer = csv.writer(file)\n",
    "        writer.writerow(['아파트명', 'Complex No'])\n",
    "        \n",
    "        for complex in complexes:\n",
    "            writer.writerow([complex.get('complexName', ''), complex.get('complexNo', '')])\n",
    "    \n",
    "    print(\"CSV 파일 저장 완료: apartments.csv\")\n",
    "else:\n",
    "    print(f\"API 요청 실패: {response.status_code}\")\n"
   ]
  },
  {
   "cell_type": "code",
   "execution_count": null,
   "metadata": {
    "vscode": {
     "languageId": "plaintext"
    }
   },
   "outputs": [],
   "source": []
  }
 ],
 "metadata": {
  "language_info": {
   "name": "python"
  }
 },
 "nbformat": 4,
 "nbformat_minor": 2
}
